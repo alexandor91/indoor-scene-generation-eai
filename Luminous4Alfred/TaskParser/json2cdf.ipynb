{
 "cells": [
  {
   "cell_type": "code",
   "execution_count": null,
   "id": "reserved-wholesale",
   "metadata": {},
   "outputs": [],
   "source": [
    "import os\n",
    "import json\n",
    "from pprint import pprint\n",
    "import urllib.request\n",
    "from tqdm.auto import tqdm"
   ]
  },
  {
   "cell_type": "code",
   "execution_count": null,
   "id": "exotic-humidity",
   "metadata": {},
   "outputs": [],
   "source": [
    "from cdf_gene.params import sim_obj_types, sim_obj_name2type\n",
    "from cdf_gene.utils import get_task_goals_and_script, modify\n",
    "from cdf_gene.utils import get_cdfs_from_floorplan, merge_cdfs, generate_cdf_from_task, generate_cdf_from_task_by_gt"
   ]
  },
  {
   "cell_type": "code",
   "execution_count": null,
   "id": "systematic-version",
   "metadata": {},
   "outputs": [],
   "source": [
    "import argparse\n",
    "\n",
    "# parser\n",
    "parser = argparse.ArgumentParser()\n",
    "\n",
    "parser.add_argument('--train_save_path', type=str, default=\"\")\n",
    "parser.add_argument('--valid_save_path', type=str, default=\"\")\n",
    "parser.add_argument('--test_save_path', type=str, default=\"\")\n",
    "\n",
    "# parse arguments\n",
    "args = parser.parse_args(\"\")"
   ]
  },
  {
   "cell_type": "code",
   "execution_count": null,
   "id": "another-cincinnati",
   "metadata": {},
   "outputs": [],
   "source": [
    "object_vocab = []\n",
    "cdf_vocab = []"
   ]
  },
  {
   "cell_type": "code",
   "execution_count": null,
   "id": "pending-ultimate",
   "metadata": {},
   "outputs": [],
   "source": [
    "# load data from url\n",
    "split_url = \"https://raw.githubusercontent.com/askforalfred/alfred/master/data/splits/oct21.json\"\n",
    "data_url = \"https://raw.githubusercontent.com/askforalfred/alfred/master/data/json_2.1.0/\"\n",
    "\n",
    "with urllib.request.urlopen(split_url) as url:\n",
    "    splits = json.loads(url.read().decode())\n",
    "    print({k: len(v) for k, v in splits.items()})"
   ]
  },
  {
   "cell_type": "code",
   "execution_count": null,
   "id": "catholic-agreement",
   "metadata": {},
   "outputs": [],
   "source": [
    "# debug\n",
    "debug_ex = []"
   ]
  },
  {
   "cell_type": "markdown",
   "id": "divided-chile",
   "metadata": {},
   "source": [
    "# Merge cdf"
   ]
  },
  {
   "cell_type": "code",
   "execution_count": null,
   "id": "smooth-generation",
   "metadata": {},
   "outputs": [],
   "source": [
    "# load data from url\n",
    "split_url = \"https://raw.githubusercontent.com/askforalfred/alfred/master/data/splits/oct21.json\"\n",
    "data_url = \"https://raw.githubusercontent.com/askforalfred/alfred/master/data/json_2.1.0/\"\n",
    "\n",
    "with urllib.request.urlopen(split_url) as url:\n",
    "    splits = json.loads(url.read().decode())\n",
    "    print({k: len(v) for k, v in splits.items()})"
   ]
  },
  {
   "cell_type": "code",
   "execution_count": null,
   "id": "human-margin",
   "metadata": {
    "scrolled": true
   },
   "outputs": [],
   "source": [
    "# train data\n",
    "for ROOM_NUM in tqdm(range(1, 31)):    \n",
    "    cdf_list = get_cdfs_from_floorplan(ROOM_NUM, splits)\n",
    "\n",
    "    if(len(cdf_list) == 0):\n",
    "        continue\n",
    "    \n",
    "    for cdf_dict in cdf_list:\n",
    "        modify(cdf_dict)\n",
    "    \n",
    "    merged_cdf = merge_cdfs(cdf_list)\n",
    "    \n",
    "    # sort\n",
    "    merged_cdf[\"scene\"][\"required_objects\"] =  sorted(merged_cdf[\"scene\"][\"required_objects\"], key = lambda x: 1 if \"location\" in x.keys() else 0)\n",
    "\n",
    "#     for i in range(len(cdf_list)):\n",
    "#         print(i, cdf_list[i],\"\\n\\n\")\n",
    "\n",
    "    # merged_cdf\n",
    "\n",
    "    # json.dumps(merged_cdf)\n",
    "\n",
    "    # sorted(cdf_list, key=lambda x: x[\"task_desc\"])\n",
    "\n",
    "    write_folder_root = args.train_save_path # \"/Users/zhayizho/Desktop/ai2thor-3.3.1/unity/Assets/Custom/Json/Floorplans/\"\n",
    "\n",
    "    # merged_cdf[\"attributes\"][\"floor_plan\"]\n",
    "\n",
    "    write_directory = os.path.join(write_folder_root, merged_cdf[\"attributes\"][\"floor_plan\"])\n",
    "\n",
    "    task_directory = os.path.join(write_directory, \"tasks\")\n",
    "    objinfo_directory = os.path.join(write_directory, \"objinfo\")\n",
    "\n",
    "    if not os.path.exists(write_directory):\n",
    "        os.makedirs(write_directory)\n",
    "    if not os.path.exists(task_directory):\n",
    "        os.makedirs(task_directory)\n",
    "    if not os.path.exists(objinfo_directory):\n",
    "        os.makedirs(objinfo_directory)\n",
    "\n",
    "    json.dump(merged_cdf, open(write_directory + \"/merged.json\", \"w\"), indent=4)\n",
    "\n",
    "    write_directory + \"/merged.json\"\n",
    "\n",
    "    for i in tqdm(range(len(cdf_list))):\n",
    "        json_name = cdf_list[i][\"task_desc\"].replace(\"/\",\"]\") + \".json\"\n",
    "        json.dump(cdf_list[i], open(task_directory + \"/\"+ json_name, \"w\"), indent = 4)"
   ]
  },
  {
   "cell_type": "code",
   "execution_count": null,
   "id": "offshore-production",
   "metadata": {
    "scrolled": true
   },
   "outputs": [],
   "source": [
    "# valid data\n",
    "for ROOM_NUM in tqdm([10, 219, 308, 424]):    \n",
    "    cdf_list = get_cdfs_from_floorplan(ROOM_NUM, splits, data_type=\"valid_unseen\")\n",
    "\n",
    "    if(len(cdf_list) == 0):\n",
    "        continue\n",
    "    \n",
    "    for cdf_dict in cdf_list:\n",
    "        modify(cdf_dict)\n",
    "    \n",
    "    merged_cdf = merge_cdfs(cdf_list)\n",
    "    \n",
    "    # sort\n",
    "    merged_cdf[\"scene\"][\"required_objects\"] =  sorted(merged_cdf[\"scene\"][\"required_objects\"], key = lambda x: 1 if \"location\" in x.keys() else 0)\n",
    "\n",
    "#     for i in range(len(cdf_list)):\n",
    "#         print(i, cdf_list[i],\"\\n\\n\")\n",
    "\n",
    "    # merged_cdf\n",
    "\n",
    "    # json.dumps(merged_cdf)\n",
    "\n",
    "    # sorted(cdf_list, key=lambda x: x[\"task_desc\"])\n",
    "\n",
    "    write_folder_root = args.valid_save_path\"/Users/zhayizho/Desktop/ai2thor-3.3.1/unity/Assets/Custom/Json/Validations/\"\n",
    "\n",
    "    # merged_cdf[\"attributes\"][\"floor_plan\"]\n",
    "\n",
    "    write_directory = os.path.join(write_folder_root, merged_cdf[\"attributes\"][\"floor_plan\"])\n",
    "\n",
    "    task_directory = os.path.join(write_directory, \"tasks\")\n",
    "    objinfo_directory = os.path.join(write_directory, \"objinfo\")\n",
    "\n",
    "    if not os.path.exists(write_directory):\n",
    "        os.makedirs(write_directory)\n",
    "    if not os.path.exists(task_directory):\n",
    "        os.makedirs(task_directory)\n",
    "    if not os.path.exists(objinfo_directory):\n",
    "        os.makedirs(objinfo_directory)\n",
    "\n",
    "    json.dump(merged_cdf, open(write_directory + \"/merged.json\", \"w\"), indent=4)\n",
    "\n",
    "    write_directory + \"/merged.json\"\n",
    "\n",
    "    for i in tqdm(range(len(cdf_list))):\n",
    "        json_name = cdf_list[i][\"task_desc\"].replace(\"/\",\"]\") + \".json\"\n",
    "        json.dump(cdf_list[i], open(task_directory + \"/\"+ json_name, \"w\"), indent = 4)"
   ]
  },
  {
   "cell_type": "code",
   "execution_count": null,
   "id": "chubby-field",
   "metadata": {},
   "outputs": [],
   "source": [
    "# test data\n",
    "for ROOM_NUM in tqdm([9, 29, 215, 226, 315, 325, 404, 424, 425]):    \n",
    "    cdf_list = get_cdfs_from_floorplan(ROOM_NUM, splits, data_type=\"tests_unseen\")\n",
    "\n",
    "    if(len(cdf_list) == 0):\n",
    "        continue\n",
    "    \n",
    "    for cdf_dict in cdf_list:\n",
    "        modify(cdf_dict)\n",
    "    \n",
    "    merged_cdf = merge_cdfs(cdf_list)\n",
    "    \n",
    "    # sort\n",
    "    merged_cdf[\"scene\"][\"required_objects\"] =  sorted(merged_cdf[\"scene\"][\"required_objects\"], key = lambda x: 1 if \"location\" in x.keys() else 0)\n",
    "\n",
    "#     for i in range(len(cdf_list)):\n",
    "#         print(i, cdf_list[i],\"\\n\\n\")\n",
    "\n",
    "    # merged_cdf\n",
    "\n",
    "    # json.dumps(merged_cdf)\n",
    "\n",
    "    # sorted(cdf_list, key=lambda x: x[\"task_desc\"])\n",
    "\n",
    "    write_folder_root = args.test_save_path #\"/Users/zhayizho/Desktop/ai2thor-3.3.1/unity/Assets/Custom/Json/Tests/\"\n",
    "\n",
    "    # merged_cdf[\"attributes\"][\"floor_plan\"]\n",
    "\n",
    "    write_directory = os.path.join(write_folder_root, merged_cdf[\"attributes\"][\"floor_plan\"])\n",
    "\n",
    "    task_directory = os.path.join(write_directory, \"tasks\")\n",
    "    objinfo_directory = os.path.join(write_directory, \"objinfo\")\n",
    "\n",
    "    if not os.path.exists(write_directory):\n",
    "        os.makedirs(write_directory)\n",
    "    if not os.path.exists(task_directory):\n",
    "        os.makedirs(task_directory)\n",
    "    if not os.path.exists(objinfo_directory):\n",
    "        os.makedirs(objinfo_directory)\n",
    "\n",
    "    json.dump(merged_cdf, open(write_directory + \"/merged.json\", \"w\"), indent=4)\n",
    "\n",
    "    write_directory + \"/merged.json\"\n",
    "\n",
    "    for i in tqdm(range(len(cdf_list))):\n",
    "        json_name = cdf_list[i][\"task_desc\"].replace(\"/\",\"]\") + \".json\"\n",
    "        json.dump(cdf_list[i], open(task_directory + \"/\"+ json_name, \"w\"), indent = 4)"
   ]
  },
  {
   "cell_type": "code",
   "execution_count": null,
   "id": "secondary-ferry",
   "metadata": {},
   "outputs": [],
   "source": []
  }
 ],
 "metadata": {
  "kernelspec": {
   "display_name": "Python 3",
   "language": "python",
   "name": "python3"
  },
  "language_info": {
   "codemirror_mode": {
    "name": "ipython",
    "version": 3
   },
   "file_extension": ".py",
   "mimetype": "text/x-python",
   "name": "python",
   "nbconvert_exporter": "python",
   "pygments_lexer": "ipython3",
   "version": "3.9.2"
  }
 },
 "nbformat": 4,
 "nbformat_minor": 5
}
